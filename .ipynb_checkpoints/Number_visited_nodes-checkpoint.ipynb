{
 "cells": [
  {
   "cell_type": "code",
   "execution_count": 1,
   "metadata": {},
   "outputs": [],
   "source": [
    "import numpy as np\n",
    "import random\n",
    "from scipy.spatial.distance import euclidean\n",
    "import math\n",
    "import matplotlib.pyplot as plt\n",
    "from mpl_toolkits.mplot3d import Axes3D\n",
    "from sklearn.neighbors import BallTree"
   ]
  },
  {
   "cell_type": "markdown",
   "metadata": {},
   "source": [
    "# Counting the number of visited nodes"
   ]
  },
  {
   "cell_type": "code",
   "execution_count": 2,
   "metadata": {},
   "outputs": [],
   "source": [
    "def random_choice_coordinates(num_points, x_min, x_max, y_min, y_max):\n",
    "    \"\"\"Computes num_points random points in the space delimited by\n",
    "    x_min, x_max, y_min, y_max\"\"\"\n",
    "    points_in_tree = []\n",
    "    while len(points_in_tree)<num_points:\n",
    "        x = random.uniform(x_min, x_max)\n",
    "        y = random.uniform(y_min, y_max)\n",
    "        if (x, y) not in points_in_tree:\n",
    "            points_in_tree.append((x,y))\n",
    "    return points_in_tree"
   ]
  },
  {
   "cell_type": "code",
   "execution_count": 3,
   "metadata": {},
   "outputs": [
    {
     "name": "stdout",
     "output_type": "stream",
     "text": [
      "List of points for the metric tree: [(1.3942679845788373, -4.74989244777333), (-2.2497068163088074, -2.7678926185117723), (2.3647121416401244, 1.7669948742291126), (3.921795677048454, -4.130611673705839), (-0.7807818031472955, -4.702027805619297), (-2.8136202519639664, 0.053552881033623656), (-4.734640303161363, -3.011623493133515), (1.4988443777952316, 0.4494148060321663), (-2.795593779593033, 0.8926568387590876), (3.0943045667782663, -4.93501240321939), (3.058192518328079, 1.9813939498822686), (-1.5974948348200813, -3.4452050018821847)]\n"
     ]
    }
   ],
   "source": [
    "random.seed(42)\n",
    "x_min, x_max, y_min, y_max = -5, 5, -5, 5\n",
    "num_points = 12\n",
    "metric_tree_points = random_choice_coordinates(num_points, x_min, x_max, y_min, y_max)\n",
    "print('List of points for the metric tree: ' + str(metric_tree_points))"
   ]
  },
  {
   "cell_type": "code",
   "execution_count": 4,
   "metadata": {},
   "outputs": [],
   "source": [
    "def distance_between_points(point1, point2):\n",
    "    \"\"\"Computes the euclidean distance between two points\"\"\"\n",
    "    return euclidean(point1, point2)"
   ]
  },
  {
   "cell_type": "code",
   "execution_count": 5,
   "metadata": {},
   "outputs": [],
   "source": [
    "def choice_of_pivot(all_points):\n",
    "    \"\"\"By approximating the median of the points, chooses a pivot that\n",
    "    will divide the space in two subspaces of similar sizes\"\"\"\n",
    "    matrix_points = np.array(all_points)\n",
    "    min_dist = math.inf\n",
    "    med = None\n",
    "    x_med, y_med = np.argsort(matrix_points)[len(matrix_points)//2]\n",
    "    point_med = (x_med, y_med)\n",
    "    for point in all_points:\n",
    "        d = distance_between_points(point, point_med)\n",
    "        if d<min_dist:\n",
    "            min_dist = d\n",
    "            med = point\n",
    "    return med"
   ]
  },
  {
   "cell_type": "code",
   "execution_count": 6,
   "metadata": {},
   "outputs": [],
   "source": [
    "def median_mu(all_points, pivot):\n",
    "    distances = []\n",
    "    all_points_copy = all_points.copy()\n",
    "    all_points_copy.remove(pivot)\n",
    "    for point in all_points_copy:\n",
    "        distances.append(distance_between_points(point, pivot))\n",
    "    distances_sorted = np.sort(distances)\n",
    "    all_points_sorted = [x for _,x in sorted(zip(distances, all_points_copy), key=lambda pair: pair[0])]\n",
    "    n = len(distances_sorted)\n",
    "    if n%2 == 0:\n",
    "        return (distances_sorted[int(n/2)]+distances_sorted[int(n/2)-1])/2, distances_sorted, all_points_sorted\n",
    "    else:\n",
    "        return distances_sorted[int(n/2)], distances_sorted, all_points_sorted"
   ]
  },
  {
   "cell_type": "code",
   "execution_count": 7,
   "metadata": {},
   "outputs": [],
   "source": [
    "def Left_Right_trees(all_points_sorted, distances_sorted, mu):\n",
    "    \"\"\"For a given pivot, returns the right and left trees, with\n",
    "    the minimum and maximum distances to the pivot\"\"\"\n",
    "    \n",
    "    mu_index = len([d for d in distances_sorted if d<mu])\n",
    "    Left_tree = all_points_sorted[:mu_index]\n",
    "    Right_tree = all_points_sorted[mu_index:]\n",
    "    min_left, max_left = distances_sorted[0], distances_sorted[mu_index-1]\n",
    "    min_right, max_right = distances_sorted[mu_index], distances_sorted[-1]\n",
    "    \n",
    "    return Left_tree, Right_tree, (min_left, max_left), (min_right, max_right)"
   ]
  },
  {
   "cell_type": "code",
   "execution_count": 8,
   "metadata": {},
   "outputs": [],
   "source": [
    "def build_metric_tree(all_points):\n",
    "    \n",
    "    metric_tree = {}\n",
    "    \n",
    "    if len(all_points) <= 2:\n",
    "        return metric_tree\n",
    "    \n",
    "    else:\n",
    "        pivot = choice_of_pivot(all_points)\n",
    "        mu, distances_sorted, all_points_sorted = median_mu(all_points, pivot)\n",
    "        Left_tree, Right_tree, (min_left, max_left), (min_right, max_right) = Left_Right_trees(all_points_sorted, distances_sorted, mu)\n",
    "        metric_tree[pivot] = [[Left_tree, (min_left, max_left)], [Right_tree, (min_right, max_right)]]\n",
    "        metric_tree_left = build_metric_tree(Left_tree)\n",
    "        metric_tree_right = build_metric_tree(Right_tree)\n",
    "        metric_tree.update(metric_tree_left)\n",
    "        metric_tree.update(metric_tree_right)\n",
    "        \n",
    "        return metric_tree  "
   ]
  },
  {
   "cell_type": "code",
   "execution_count": 9,
   "metadata": {},
   "outputs": [],
   "source": [
    "def partial_metric_tree(all_points):\n",
    "    \"\"\"Computes one iteration of the metric tree\"\"\"\n",
    "    partial_tree = {}\n",
    "    pivot = choice_of_pivot(all_points)\n",
    "    mu, distances_sorted, all_points_sorted = median_mu(all_points, pivot)\n",
    "    Left_tree, Right_tree, (min_left, max_left), (min_right, max_right) = Left_Right_trees(all_points_sorted, distances_sorted, mu)\n",
    "    partial_tree[pivot] = [[Left_tree, (min_left, max_left)], [Right_tree, (min_right, max_right)]]\n",
    "    return partial_tree"
   ]
  },
  {
   "cell_type": "code",
   "execution_count": 10,
   "metadata": {},
   "outputs": [],
   "source": [
    "def exact_nn_search(all_points, q):\n",
    "    nnq = None\n",
    "    d = math.inf\n",
    "    for point in all_points:\n",
    "        dist = distance_between_points(point,q)\n",
    "        if dist < d:\n",
    "            d = dist\n",
    "            nnq = point\n",
    "    return nnq"
   ]
  },
  {
   "cell_type": "code",
   "execution_count": 13,
   "metadata": {},
   "outputs": [
    {
     "name": "stdout",
     "output_type": "stream",
     "text": [
      "NN: (1.4988443777952316, 0.4494148060321663)\n"
     ]
    },
    {
     "data": {
      "image/png": "[encoded data removed]",
      "text/plain": [
       "<Figure size 432x288 with 1 Axes>"
      ]
     },
     "metadata": {
      "needs_background": "light"
     },
     "output_type": "display_data"
    }
   ],
   "source": [
    "q = (0,0)\n",
    "# q = (0,-4) ca rend un mauvais résultat par exemple parce qu'on choisit \n",
    "# left inf middle.\n",
    "# Résultats qui dépendent beaucoup du pivot\n",
    "nn = exact_nn_search(metric_tree_points, q)\n",
    "print('NN: '+ str(nn))\n",
    "visualize_metric_nn(metric_tree_points, nn, q)"
   ]
  },
  {
   "cell_type": "code",
   "execution_count": 12,
   "metadata": {},
   "outputs": [],
   "source": [
    "def visualize_metric_nn(all_points, nn, q):\n",
    "    x_coords = [all_points[i][0] for i in range(len(all_points))]\n",
    "    y_coords = [all_points[i][1] for i in range(len(all_points))]\n",
    "    plt.scatter(x_coords, y_coords, c='green', label='points')\n",
    "    x, y = nn\n",
    "    qx, qy = q\n",
    "    plt.scatter(x, y, c='blue', label='NN')\n",
    "    plt.scatter(qx, qy, c='red', label='Query')\n",
    "    plt.title('Visualizing the NN given a specific query')\n",
    "    plt.legend()\n",
    "    plt.show()"
   ]
  },
  {
   "cell_type": "code",
   "execution_count": 115,
   "metadata": {},
   "outputs": [],
   "source": [
    "def search_pruning_metric_tree(all_points, q, visited_nodes, tau=math.inf, nnq=None):\n",
    "\n",
    "    if len(all_points) <=2:\n",
    "\n",
    "        return exact_nn_search(all_points+[nnq], q), visited_nodes\n",
    "        \n",
    "    else:\n",
    "\n",
    "        partial_tree = partial_metric_tree(all_points)\n",
    "        print(partial_tree)\n",
    "        pivot = list(partial_tree.keys())[0]\n",
    "        l = distance_between_points(pivot, q)\n",
    "        print('l: '+str(l))\n",
    "        \n",
    "        left_tree = partial_tree[pivot][0]\n",
    "        min_left, max_left = left_tree[1]\n",
    "        right_tree = partial_tree[pivot][1]\n",
    "        min_right, max_right = right_tree[1]\n",
    "        if l<tau:\n",
    "            tau = l\n",
    "            nnq = pivot\n",
    "        d_left = [min_left - tau, max_left + tau]\n",
    "        d_right = [min_right - tau, max_right + tau]\n",
    "        print('d_left: ' + str(d_left))\n",
    "        print('d_right: ' + str(d_right))\n",
    "        \n",
    "        if l>= d_left[0] and l<= d_left[1] and l>= d_right[0] and l<= d_right[1]:\n",
    "            print('No pruning (both intervals): need to visit both sides')\n",
    "            nnq1, v1 = search_pruning_metric_tree(left_tree[0], q, visited_nodes, tau, nnq)\n",
    "            nnq2, v2 = search_pruning_metric_tree(right_tree[0], q, visited_nodes, tau, nnq)\n",
    "            visited_nodes = min(v1, v2)\n",
    "            return exact_nn_search([nnq1, nnq2, nnq], q), visited_nodes\n",
    "        elif l>= d_left[0] and l<= d_left[1]:\n",
    "            print('left')\n",
    "            Pruning_left = True\n",
    "            visited_nodes -= len(right_tree[0])\n",
    "            return search_pruning_metric_tree(left_tree[0], q, visited_nodes, tau, nnq)\n",
    "        elif l>= d_right[0] and l<= d_right[1]:\n",
    "            print('right')\n",
    "            Pruning_right = True\n",
    "            visited_nodes -= len(left_tree[0])\n",
    "            return search_pruning_metric_tree(right_tree[0], q, visited_nodes, tau, nnq)\n",
    "        else:\n",
    "            print('No pruning (not in any interval): need to visit both sides')\n",
    "            nnq1, v1 = search_pruning_metric_tree(left_tree[0], q, visited_nodes, tau, nnq)\n",
    "            nnq2, v2 = search_pruning_metric_tree(right_tree[0], q, visited_nodes, tau, nnq)\n",
    "            visited_nodes = min(v1, v2)\n",
    "            return exact_nn_search([nnq1, nnq2, nnq], q), visited_nodes"
   ]
  },
  {
   "cell_type": "code",
   "execution_count": 116,
   "metadata": {},
   "outputs": [
    {
     "name": "stdout",
     "output_type": "stream",
     "text": [
      "List of points for the metric tree: [(1.3942679845788373, -4.74989244777333), (-2.2497068163088074, -2.7678926185117723), (2.3647121416401244, 1.7669948742291126), (3.921795677048454, -4.130611673705839), (-0.7807818031472955, -4.702027805619297), (-2.8136202519639664, 0.053552881033623656), (-4.734640303161363, -3.011623493133515), (1.4988443777952316, 0.4494148060321663), (-2.795593779593033, 0.8926568387590876), (3.0943045667782663, -4.93501240321939), (3.058192518328079, 1.9813939498822686), (-1.5974948348200813, -3.4452050018821847), (4.572130722067811, -1.6340545488737321), (-4.072541566198521, -4.03283623166536), (3.4749436634745976, 1.0372603136689111)]\n"
     ]
    }
   ],
   "source": [
    "random.seed(42)\n",
    "x_min, x_max, y_min, y_max = -5, 5, -5, 5\n",
    "num_points = 15\n",
    "metric_tree_points = random_choice_coordinates(num_points, x_min, x_max, y_min, y_max)\n",
    "print('List of points for the metric tree: ' + str(metric_tree_points))"
   ]
  },
  {
   "cell_type": "code",
   "execution_count": 117,
   "metadata": {},
   "outputs": [
    {
     "name": "stdout",
     "output_type": "stream",
     "text": [
      "{(1.4988443777952316, 0.4494148060321663): [[[(2.3647121416401244, 1.7669948742291126), (3.4749436634745976, 1.0372603136689111), (3.058192518328079, 1.9813939498822686), (4.572130722067811, -1.6340545488737321), (-2.795593779593033, 0.8926568387590876), (-2.8136202519639664, 0.053552881033623656), (-2.2497068163088074, -2.7678926185117723)], (1.5766243118053282, 4.939909221721019)], [[(-1.5974948348200813, -3.4452050018821847), (3.921795677048454, -4.130611673705839), (1.3942679845788373, -4.74989244777333), (3.0943045667782663, -4.93501240321939), (-0.7807818031472955, -4.702027805619297), (-4.734640303161363, -3.011623493133515), (-4.072541566198521, -4.03283623166536)], (4.975477863258768, 7.15058848640248)]]}\n",
      "l: 16.537680631885145\n",
      "d_left: [-14.961056320079816, 21.477589853606165]\n",
      "d_right: [-11.562202768626378, 23.688269118287625]\n",
      "No pruning (both intervals): need to visit both sides\n",
      "{(2.3647121416401244, 1.7669948742291126): [[[(3.058192518328079, 1.9813939498822686), (3.4749436634745976, 1.0372603136689111), (4.572130722067811, -1.6340545488737321)], (0.7258663764717272, 4.054606512055835)], [[(-2.795593779593033, 0.8926568387590876), (-2.8136202519639664, 0.053552881033623656), (-2.2497068163088074, -2.7678926185117723)], (5.233853666370848, 6.469781054355411)]]}\n",
      "l: 15.080877715325\n",
      "d_left: [-14.355011338853274, 19.135484227380836]\n",
      "d_right: [-9.847024048954152, 21.55065876968041]\n",
      "No pruning (both intervals): need to visit both sides\n",
      "{(3.4749436634745976, 1.0372603136689111): [[[(3.058192518328079, 1.9813939498822686)], (1.0320222090683857, 1.0320222090683857)], [[(4.572130722067811, -1.6340545488737321)], (2.887861239115489, 2.887861239115489)]]}\n",
      "l: 14.599918706794865\n",
      "d_left: [-13.56789649772648, 15.63194091586325]\n",
      "d_right: [-11.712057467679376, 17.487779945910354]\n",
      "No pruning (both intervals): need to visit both sides\n",
      "{(-2.795593779593033, 0.8926568387590876): [[[(-2.8136202519639664, 0.053552881033623656)], (0.8392975667644207, 0.8392975667644207)], [[(-2.2497068163088074, -2.7678926185117723)], (3.7010288982672996, 3.7010288982672996)]]}\n",
      "l: 19.990669259054133\n",
      "d_left: [-14.24158014856058, 15.92017528208942]\n",
      "d_right: [-11.3798488170577, 18.781906613592298]\n",
      "No pruning (not in any interval): need to visit both sides\n",
      "{(-1.5974948348200813, -3.4452050018821847): [[[(-0.7807818031472955, -4.702027805619297), (-4.072541566198521, -4.03283623166536), (-4.734640303161363, -3.011623493133515)], (1.498874156191162, 3.1669661530024307)], [[(1.3942679845788373, -4.74989244777333), (3.0943045667782663, -4.93501240321939), (3.921795677048454, -4.130611673705839)], (3.2638710297748785, 5.561685900892139)]]}\n",
      "l: 21.360018078983853\n",
      "d_left: [-15.038806475693983, 19.704646784887576]\n",
      "d_right: [-13.273809602110266, 22.099366532777285]\n",
      "right\n",
      "{(1.3942679845788373, -4.74989244777333): [[[(3.0943045667782663, -4.93501240321939)], (1.7100858980532723, 1.7100858980532723)], [[(3.921795677048454, -4.130611673705839)], (2.6022883993382475, 2.6022883993382475)]]}\n",
      "l: 20.06677031553252\n",
      "d_left: [-14.827594733831873, 18.247766529938417]\n",
      "d_right: [-13.935392232546898, 19.139969031223394]\n",
      "No pruning (not in any interval): need to visit both sides\n",
      "((3.058192518328079, 1.9813939498822686), 12)\n"
     ]
    }
   ],
   "source": [
    "q = (15,10)\n",
    "# q = (1.4988443777952316, 0.4494148060321663) #(premier pivot)\n",
    "# q = (0,0)\n",
    "# q = (-3,-3) \n",
    "# q = (3,-3) \n",
    "# q = (3,-1) \n",
    "# Résultats qui dépendent beaucoup du pivot. il faudrait choisir un pivot qui maximise les chances de pruning (question 5)\n",
    "visited_nodes = len(metric_tree_points)\n",
    "nn = search_pruning_metric_tree(metric_tree_points, q, visited_nodes)\n",
    "print(nn)"
   ]
  },
  {
   "cell_type": "code",
   "execution_count": 16,
   "metadata": {},
   "outputs": [],
   "source": [
    "def visited_nodes(all_points, pruning):\n",
    "    visited_nodes = len(all_points)\n",
    "    metric_tree = build_metric_tree(all_points)\n",
    "    keys = list(metric_tree.keys())\n",
    "    for i, action in enumerate(pruning):\n",
    "        if action == 'left':           \n",
    "            num_pruned_nodes = len(metric_tree[keys[i]][1][0])\n",
    "            visited_nodes -= num_pruned_nodes\n",
    "        elif action == 'right':\n",
    "            num_pruned_nodes = len(metric_tree[keys[i]][0][0])\n",
    "            visited_nodes -= num_pruned_nodes  \n",
    "    return visited_nodes"
   ]
  },
  {
   "cell_type": "code",
   "execution_count": 17,
   "metadata": {},
   "outputs": [
    {
     "data": {
      "text/plain": [
       "6"
      ]
     },
     "execution_count": 17,
     "metadata": {},
     "output_type": "execute_result"
    }
   ],
   "source": [
    "pruning = ['left', 'No pruning (not in any interval): need to visit both sides']\n",
    "visited_nodes(metric_tree_points, pruning)"
   ]
  },
  {
   "cell_type": "code",
   "execution_count": 30,
   "metadata": {},
   "outputs": [],
   "source": [
    "def defeatist_search(all_points, q, nodes_visited=0, nnq=None, d=math.inf):\n",
    "\n",
    "    if len(all_points) <=2:\n",
    "        print('The nearest neighbor is: ')\n",
    "        dnnq = d\n",
    "        if len(all_points) == 1:\n",
    "            nodes_visited += 1\n",
    "            points = [nnq, all_points[0]]\n",
    "            d = distance_between_points(points[1], q)\n",
    "            ind_min = [dnnq, d].index(min([dnnq, d]))\n",
    "            return points[ind_min], nodes_visited\n",
    "        else:\n",
    "            nodes_visited += 2\n",
    "            points = [nnq, all_points[0], all_points[1]]\n",
    "            d1, d2 = distance_between_points(points[1], q), distance_between_points(points[2], q)\n",
    "            ind_min = [dnnq, d1, d2].index(min([dnnq, d1, d2]))\n",
    "            return points[ind_min], nodes_visited\n",
    "        \n",
    "    else:\n",
    "\n",
    "        partial_tree = partial_metric_tree(all_points)\n",
    "        print(partial_tree)\n",
    "        pivot = list(partial_tree.keys())[0]\n",
    "        nodes_visited += 1\n",
    "        \n",
    "        tau = distance_between_points(pivot, q)\n",
    "        mu = median_mu(all_points, pivot)[0]\n",
    "        \n",
    "        if tau<d:\n",
    "            d = tau\n",
    "            nnq = pivot\n",
    "        \n",
    "        left_tree = partial_tree[pivot][0]\n",
    "        min_left, max_left = left_tree[1]\n",
    "        right_tree = partial_tree[pivot][1]\n",
    "        min_right, max_right = right_tree[1]\n",
    "        \n",
    "        if tau < mu:\n",
    "            print('left')\n",
    "            return defeatist_search(left_tree[0], q, nodes_visited, nnq, d)\n",
    "        else:\n",
    "            print('right')\n",
    "            return defeatist_search(right_tree[0], q, nodes_visited, nnq, d)        "
   ]
  },
  {
   "cell_type": "code",
   "execution_count": 41,
   "metadata": {},
   "outputs": [
    {
     "name": "stdout",
     "output_type": "stream",
     "text": [
      "List of points for the metric tree: [(1.3942679845788373, -4.74989244777333), (-2.2497068163088074, -2.7678926185117723), (2.3647121416401244, 1.7669948742291126), (3.921795677048454, -4.130611673705839), (-0.7807818031472955, -4.702027805619297)]\n"
     ]
    }
   ],
   "source": [
    "random.seed(42)\n",
    "x_min, x_max, y_min, y_max = -5, 5, -5, 5\n",
    "num_points = 5\n",
    "metric_tree_points = random_choice_coordinates(num_points, x_min, x_max, y_min, y_max)\n",
    "print('List of points for the metric tree: ' + str(metric_tree_points))"
   ]
  },
  {
   "cell_type": "code",
   "execution_count": 42,
   "metadata": {},
   "outputs": [
    {
     "name": "stdout",
     "output_type": "stream",
     "text": [
      "{(2.3647121416401244, 1.7669948742291126): [[[(3.921795677048454, -4.130611673705839), (-2.2497068163088074, -2.7678926185117723)], (6.09969442927143, 6.469781054355411)], [[(1.3942679845788373, -4.74989244777333), (-0.7807818031472955, -4.702027805619297)], (6.588746635715367, 7.19321809686648)]]}\n",
      "left\n",
      "The nearest neighbor is: \n",
      "NN: (2.3647121416401244, 1.7669948742291126)\n",
      "Number of visited nodes: 3\n"
     ]
    },
    {
     "data": {
      "image/png": "[encoded data removed]",
      "text/plain": [
       "<Figure size 432x288 with 1 Axes>"
      ]
     },
     "metadata": {
      "needs_background": "light"
     },
     "output_type": "display_data"
    }
   ],
   "source": [
    "q = (0,0)\n",
    "# q = (0,-4) ca rend un mauvais résultat par exemple parce qu'on choisit \n",
    "# left inf middle.\n",
    "# Résultats qui dépendent beaucoup du pivot\n",
    "nn, nodes_visited = defeatist_search(metric_tree_points, q)\n",
    "print('NN: '+ str(nn))\n",
    "print('Number of visited nodes: ' + str(nodes_visited))\n",
    "visualize_metric_nn(metric_tree_points, nn, q)"
   ]
  },
  {
   "cell_type": "code",
   "execution_count": null,
   "metadata": {},
   "outputs": [],
   "source": [
    "class MTree(object):\n",
    "    def __init__(self,\n",
    "                 d,\n",
    "                 max_node_size=4,\n",
    "                 promote=M_LB_DIST_confirmed,\n",
    "                 partition=generalized_hyperplane):\n",
    "        \"\"\"\n",
    "        Create a new MTree.\n",
    "        Arguments:\n",
    "        d: distance function.\n",
    "        max_node_size: optional. Maximum number of entries in a node of\n",
    "            the M-tree\n",
    "        promote: optional. Used during insertion of a new value when\n",
    "            a node of the tree is split in two.\n",
    "            Determines given the set of entries which two entries should be\n",
    "            used as routing object to represent the two nodes in the\n",
    "            parent node.\n",
    "            This is delving pretty far into implementation choices of\n",
    "            the Mtree. If you don't understand all this just swallow\n",
    "            the blue pill, use the default value and you'll be fine.\n",
    "        partition: optional. Used during insertion of a new value when\n",
    "            a node of the tree is split in two.\n",
    "            Determines to which of the two routing object each entry of the\n",
    "            split node should go.\n",
    "            This is delving pretty far into implementation choices of\n",
    "            the Mtree. If you don't understand all this just swallow\n",
    "            the blue pill, use the default value and you'll be fine.\n",
    "        \"\"\"\n",
    "        if not callable(d):\n",
    "            #Why the hell did I put this?\n",
    "            #This is python, we use dynamic typing and assumes the user\n",
    "            #of the API is smart enough to pass the right parameters.\n",
    "            raise TypeError('d is not a function')\n",
    "        if max_node_size < 2:\n",
    "            raise ValueError('max_node_size must be >= 2 but is %d' %\n",
    "                             max_node_size)\n",
    "        self.d = d\n",
    "        self.max_node_size = max_node_size\n",
    "        self.promote = promote\n",
    "        self.partition = partition\n",
    "        self.size = 0\n",
    "        self.root = LeafNode(self)\n",
    "\n",
    "    def __len__(self):\n",
    "        return self.size\n",
    "\n",
    "    def add(self, obj):\n",
    "        \"\"\"\n",
    "        Add an object into the M-tree\n",
    "        \"\"\"\n",
    "        self.root.add(obj)\n",
    "        self.size += 1\n",
    "\n",
    "    def add_all(self, iterable):\n",
    "        \"\"\"\n",
    "        Add all the elements in the M-tree\n",
    "        \"\"\"\n",
    "        #TODO: implement using the bulk-loading algorithm\n",
    "        for obj in iterable:\n",
    "            self.add(obj)\n",
    "\n",
    "    def search(self, query_obj, k=1):\n",
    "        \"\"\"Return the k objects the most similar to query_obj.\n",
    "        Implementation of the k-Nearest Neighbor algorithm.\n",
    "        Returns a list of the k closest elements to query_obj, ordered by\n",
    "        distance to query_obj (from closest to furthest).\n",
    "        If the tree has less objects than k, it will return all the\n",
    "        elements of the tree.\"\"\"\n",
    "        k = min(k, len(self))\n",
    "        if k == 0: return []\n",
    "\n",
    "        #priority queue of subtrees not yet explored ordered by dmin\n",
    "        pr = []\n",
    "        heappush(pr, PrEntry(self.root, 0, 0))\n",
    "\n",
    "        #at the end will contain the results \n",
    "        nn = NN(k)\n",
    "\n",
    "        while pr:\n",
    "            prEntry = heappop(pr)\n",
    "            if(prEntry.dmin > nn.search_radius()):\n",
    "                #best candidate is too far, we won't have better a answer\n",
    "                #we can stop\n",
    "                break\n",
    "            prEntry.tree.search(query_obj, pr, nn, prEntry.d_query)\n",
    "\n",
    "            #could prune pr here\n",
    "            #(the paper prunes after each entry insertion, instead whe could\n",
    "            #prune once after handling all the entries of a node)\n",
    "            \n",
    "        return nn.result_list()"
   ]
  }
 ],
 "metadata": {
  "kernelspec": {
   "display_name": "Python 3",
   "language": "python",
   "name": "python3"
  },
  "language_info": {
   "codemirror_mode": {
    "name": "ipython",
    "version": 3
   },
   "file_extension": ".py",
   "mimetype": "text/x-python",
   "name": "python",
   "nbconvert_exporter": "python",
   "pygments_lexer": "ipython3",
   "version": "3.8.3"
  }
 },
 "nbformat": 4,
 "nbformat_minor": 4
}
