{
 "cells": [
  {
   "cell_type": "code",
   "execution_count": 1,
   "metadata": {},
   "outputs": [],
   "source": [
    "import numpy as np\n",
    "import random\n",
    "from scipy.spatial.distance import euclidean\n",
    "import math\n",
    "import matplotlib.pyplot as plt\n",
    "from mpl_toolkits.mplot3d import Axes3D\n",
    "from sklearn.neighbors import BallTree"
   ]
  },
  {
   "cell_type": "markdown",
   "metadata": {},
   "source": [
    "# Exact search with pruning condition"
   ]
  },
  {
   "cell_type": "code",
   "execution_count": 3,
   "metadata": {},
   "outputs": [],
   "source": [
    "def search_pruning_metric_tree(all_points, q, visited_nodes, tau=math.inf, nnq=None):\n",
    "\n",
    "    if len(all_points) <=2:\n",
    "\n",
    "        return exact_nn_search(all_points+[nnq], q), visited_nodes\n",
    "        \n",
    "    else:\n",
    "\n",
    "        partial_tree = partial_metric_tree(all_points)\n",
    "        print(partial_tree)\n",
    "        pivot = list(partial_tree.keys())[0]\n",
    "        l = distance_between_points(pivot, q)\n",
    "        print('l: '+str(l))\n",
    "        \n",
    "        left_tree = partial_tree[pivot][0]\n",
    "        min_left, max_left = left_tree[1]\n",
    "        right_tree = partial_tree[pivot][1]\n",
    "        min_right, max_right = right_tree[1]\n",
    "        if l<tau:\n",
    "            tau = l\n",
    "            nnq = pivot\n",
    "        d_left = [min_left - tau, max_left + tau]\n",
    "        d_right = [min_right - tau, max_right + tau]\n",
    "        print('d_left: ' + str(d_left))\n",
    "        print('d_right: ' + str(d_right))\n",
    "        \n",
    "        if l>= d_left[0] and l<= d_left[1] and l>= d_right[0] and l<= d_right[1]:\n",
    "            print('No pruning (both intervals): need to visit both sides')\n",
    "            nnq1, v1 = search_pruning_metric_tree(left_tree[0], q, visited_nodes, tau, nnq)\n",
    "            nnq2, v2 = search_pruning_metric_tree(right_tree[0], q, visited_nodes, tau, nnq)\n",
    "            visited_nodes = min(v1, v2)\n",
    "            return exact_nn_search([nnq1, nnq2, nnq], q), visited_nodes\n",
    "        elif l>= d_left[0] and l<= d_left[1]:\n",
    "            print('left')\n",
    "            Pruning_left = True\n",
    "            visited_nodes -= len(right_tree[0])\n",
    "            return search_pruning_metric_tree(left_tree[0], q, visited_nodes, tau, nnq)\n",
    "        elif l>= d_right[0] and l<= d_right[1]:\n",
    "            print('right')\n",
    "            Pruning_right = True\n",
    "            visited_nodes -= len(left_tree[0])\n",
    "            return search_pruning_metric_tree(right_tree[0], q, visited_nodes, tau, nnq)\n",
    "        else:\n",
    "            print('No pruning (not in any interval): need to visit both sides')\n",
    "            nnq1, v1 = search_pruning_metric_tree(left_tree[0], q, visited_nodes, tau, nnq)\n",
    "            nnq2, v2 = search_pruning_metric_tree(right_tree[0], q, visited_nodes, tau, nnq)\n",
    "            visited_nodes = min(v1, v2)\n",
    "            return exact_nn_search([nnq1, nnq2, nnq], q), visited_nodes"
   ]
  },
  {
   "cell_type": "markdown",
   "metadata": {},
   "source": [
    "# Defeatist Search"
   ]
  },
  {
   "cell_type": "code",
   "execution_count": 5,
   "metadata": {},
   "outputs": [],
   "source": [
    "def defeatist_search(all_points, q, nodes_visited=0, nnq=None, d=math.inf):\n",
    "\n",
    "    if len(all_points) <=2:\n",
    "        print('The nearest neighbor is: ')\n",
    "        dnnq = d\n",
    "        if len(all_points) == 1:\n",
    "            nodes_visited += 1\n",
    "            points = [nnq, all_points[0]]\n",
    "            d = distance_between_points(points[1], q)\n",
    "            ind_min = [dnnq, d].index(min([dnnq, d]))\n",
    "            return points[ind_min], nodes_visited\n",
    "        else:\n",
    "            nodes_visited += 2\n",
    "            points = [nnq, all_points[0], all_points[1]]\n",
    "            d1, d2 = distance_between_points(points[1], q), distance_between_points(points[2], q)\n",
    "            ind_min = [dnnq, d1, d2].index(min([dnnq, d1, d2]))\n",
    "            return points[ind_min], nodes_visited\n",
    "        \n",
    "    else:\n",
    "\n",
    "        partial_tree = partial_metric_tree(all_points)\n",
    "        print(partial_tree)\n",
    "        pivot = list(partial_tree.keys())[0]\n",
    "        nodes_visited += 1\n",
    "        \n",
    "        tau = distance_between_points(pivot, q)\n",
    "        mu = median_mu(all_points, pivot)[0]\n",
    "        \n",
    "        if tau<d:\n",
    "            d = tau\n",
    "            nnq = pivot\n",
    "        \n",
    "        left_tree = partial_tree[pivot][0]\n",
    "        min_left, max_left = left_tree[1]\n",
    "        right_tree = partial_tree[pivot][1]\n",
    "        min_right, max_right = right_tree[1]\n",
    "        \n",
    "        if tau < mu:\n",
    "            print('left')\n",
    "            return defeatist_search(left_tree[0], q, nodes_visited, nnq, d)\n",
    "        else:\n",
    "            print('right')\n",
    "            return defeatist_search(right_tree[0], q, nodes_visited, nnq, d)        "
   ]
  },
  {
   "cell_type": "code",
   "execution_count": null,
   "metadata": {},
   "outputs": [],
   "source": []
  }
 ],
 "metadata": {
  "kernelspec": {
   "display_name": "Python 3",
   "language": "python",
   "name": "python3"
  },
  "language_info": {
   "codemirror_mode": {
    "name": "ipython",
    "version": 3
   },
   "file_extension": ".py",
   "mimetype": "text/x-python",
   "name": "python",
   "nbconvert_exporter": "python",
   "pygments_lexer": "ipython3",
   "version": "3.8.3"
  }
 },
 "nbformat": 4,
 "nbformat_minor": 4
}
